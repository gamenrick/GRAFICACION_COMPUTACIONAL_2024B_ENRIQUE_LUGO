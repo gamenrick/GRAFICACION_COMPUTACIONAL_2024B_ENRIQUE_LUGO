{
 "cells": [
  {
   "cell_type": "markdown",
   "id": "08e242be",
   "metadata": {},
   "source": [
    "# Ecuaciones Lineales\n",
    "\n",
    "### Trabajo realizado por: Jesus Enrique Lugo Ramirez\n",
    "### Graficación Computacional\n",
    "### Profesora: Hazem Álvarez Rodríguez\n",
    "### Clase del 11 de noviembre de 2024"
   ]
  },
  {
   "cell_type": "markdown",
   "id": "77ab79a4",
   "metadata": {},
   "source": [
    "## Ejemplo"
   ]
  },
  {
   "cell_type": "code",
   "execution_count": 4,
   "id": "0e2b270c",
   "metadata": {},
   "outputs": [],
   "source": [
    "import numpy as np"
   ]
  },
  {
   "cell_type": "code",
   "execution_count": 5,
   "id": "5b35de53",
   "metadata": {},
   "outputs": [],
   "source": [
    "A4 = np.matrix([[3,2,-1],[2,-2,4],[-1,0.5,-1]])\n",
    "b4 = np.matrix([[1],[-2],[0]])"
   ]
  },
  {
   "cell_type": "code",
   "execution_count": 6,
   "id": "8321742f",
   "metadata": {},
   "outputs": [],
   "source": [
    "x4 = (A4**-1)*b4\n",
    "determinante4 = np.linalg.det(A4)"
   ]
  },
  {
   "cell_type": "code",
   "execution_count": 7,
   "id": "ccee8a0d",
   "metadata": {},
   "outputs": [
    {
     "name": "stdout",
     "output_type": "stream",
     "text": [
      "Forma matricial A x = b:\n",
      "Matriz A:\n",
      "[[ 3.   2.  -1. ]\n",
      " [ 2.  -2.   4. ]\n",
      " [-1.   0.5 -1. ]]\n",
      "Vector b:\n",
      "[[ 1]\n",
      " [-2]\n",
      " [ 0]]\n",
      "\n",
      "Determinante de A: -3.0000000000000036\n",
      "\n",
      "Valor de x:\n",
      "[[ 1.]\n",
      " [-2.]\n",
      " [-2.]]\n"
     ]
    }
   ],
   "source": [
    "# Mostrar los resultados\n",
    "print(\"Forma matricial A x = b:\")\n",
    "print(\"Matriz A:\")\n",
    "print(A4)\n",
    "print(\"Vector b:\")\n",
    "print(b4)\n",
    "print(\"\\nDeterminante de A:\", determinante4)\n",
    "print(\"\\nValor de x:\")\n",
    "print(x4)"
   ]
  },
  {
   "cell_type": "markdown",
   "id": "17749f58",
   "metadata": {},
   "source": [
    "## Actividad"
   ]
  },
  {
   "cell_type": "markdown",
   "id": "35944853",
   "metadata": {},
   "source": [
    "### 1. A = (9)"
   ]
  },
  {
   "cell_type": "code",
   "execution_count": 8,
   "id": "27faaaa7",
   "metadata": {},
   "outputs": [
    {
     "name": "stdout",
     "output_type": "stream",
     "text": [
      "this is A\n",
      " [[9]]\n",
      "this is the determinante\n",
      " 9.000000000000002\n"
     ]
    }
   ],
   "source": [
    "A = np.matrix([[9]])\n",
    "\n",
    "print(\"this is A\\n\",A)\n",
    "det = np.linalg.det(A)\n",
    "print(\"this is the determinante\\n\",det)"
   ]
  },
  {
   "cell_type": "markdown",
   "id": "3b9dadf7",
   "metadata": {},
   "source": [
    "### 2. B = ([4 -1]  [-2 0])"
   ]
  },
  {
   "cell_type": "code",
   "execution_count": 9,
   "id": "3ebca105",
   "metadata": {},
   "outputs": [
    {
     "name": "stdout",
     "output_type": "stream",
     "text": [
      "this is A\n",
      " [[ 4 -1]\n",
      " [-2  0]]\n",
      "this is the determinante\n",
      " -2.0\n"
     ]
    }
   ],
   "source": [
    "A = np.matrix([[4, -1],[-2, 0]])\n",
    "\n",
    "print(\"this is A\\n\",A)\n",
    "det = np.linalg.det(A)\n",
    "print(\"this is the determinante\\n\",det)\n"
   ]
  },
  {
   "cell_type": "markdown",
   "id": "6a4e5d6f",
   "metadata": {},
   "source": [
    "### 2. C = ([5 0 2]  [3 1 1] [0 1 2])"
   ]
  },
  {
   "cell_type": "code",
   "execution_count": 10,
   "id": "993af7c9",
   "metadata": {},
   "outputs": [
    {
     "name": "stdout",
     "output_type": "stream",
     "text": [
      "this is A\n",
      " [[5 0 0]\n",
      " [3 1 1]\n",
      " [0 1 2]]\n",
      "this is the determinante\n",
      " 4.999999999999999\n"
     ]
    }
   ],
   "source": [
    "A = np.matrix([[5, 0, 0], [3, 1, 1],[0, 1, 2]])\n",
    "\n",
    "print(\"this is A\\n\",A)\n",
    "det = np.linalg.det(A)\n",
    "print(\"this is the determinante\\n\",det)"
   ]
  }
 ],
 "metadata": {
  "kernelspec": {
   "display_name": "Python 3",
   "language": "python",
   "name": "python3"
  },
  "language_info": {
   "codemirror_mode": {
    "name": "ipython",
    "version": 3
   },
   "file_extension": ".py",
   "mimetype": "text/x-python",
   "name": "python",
   "nbconvert_exporter": "python",
   "pygments_lexer": "ipython3",
   "version": "3.12.7"
  }
 },
 "nbformat": 4,
 "nbformat_minor": 5
}
