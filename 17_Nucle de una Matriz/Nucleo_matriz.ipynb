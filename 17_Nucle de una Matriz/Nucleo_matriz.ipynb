{
 "cells": [
  {
   "cell_type": "markdown",
   "id": "50240967",
   "metadata": {},
   "source": [
    "# Núcleo de una matriz\n",
    "\n",
    "### Trabajo realizado por: Jesus Enrique Lugo Ramirez\n",
    "### Graficación Computacional\n",
    "### Profesora: Hazem Álvarez Rodríguez\n",
    "### Clase del 11 de noviembre de 2024"
   ]
  },
  {
   "cell_type": "code",
   "execution_count": 1,
   "id": "d9270854",
   "metadata": {},
   "outputs": [],
   "source": [
    "import numpy as np\n",
    "from scipy.linalg import null_space"
   ]
  },
  {
   "cell_type": "code",
   "execution_count": 2,
   "id": "cec820f0",
   "metadata": {},
   "outputs": [],
   "source": [
    "# Definir matrices\n",
    "matrix1 = np.array([[1, 1, 0], [1, 1, 0]])\n",
    "matrix2 = np.array([[1, 1, 2], [2, 2, 4], [2, 3, 5]])"
   ]
  },
  {
   "cell_type": "code",
   "execution_count": 3,
   "id": "6c8fd2d2",
   "metadata": {},
   "outputs": [],
   "source": [
    "# Cálcula el espacio vacío \n",
    "kernel1 = null_space(matrix1)\n",
    "kernel2 = null_space(matrix2)"
   ]
  },
  {
   "cell_type": "code",
   "execution_count": 4,
   "id": "c67f349f",
   "metadata": {},
   "outputs": [
    {
     "name": "stdout",
     "output_type": "stream",
     "text": [
      "Núcleo de la matriz 1:\n",
      "[[-0.70710678  0.        ]\n",
      " [ 0.70710678  0.        ]\n",
      " [ 0.          1.        ]]\n",
      "\n",
      "Núcleo de la matriz  2:\n",
      "[[-0.57735027]\n",
      " [-0.57735027]\n",
      " [ 0.57735027]]\n"
     ]
    }
   ],
   "source": [
    "# Mostrar resultados\n",
    "print(\"Núcleo de la matriz 1:\")\n",
    "print(kernel1)\n",
    "print(\"\\nNúcleo de la matriz  2:\")\n",
    "print(kernel2)\n"
   ]
  }
 ],
 "metadata": {
  "kernelspec": {
   "display_name": "Python 3",
   "language": "python",
   "name": "python3"
  },
  "language_info": {
   "codemirror_mode": {
    "name": "ipython",
    "version": 3
   },
   "file_extension": ".py",
   "mimetype": "text/x-python",
   "name": "python",
   "nbconvert_exporter": "python",
   "pygments_lexer": "ipython3",
   "version": "3.12.7"
  }
 },
 "nbformat": 4,
 "nbformat_minor": 5
}
